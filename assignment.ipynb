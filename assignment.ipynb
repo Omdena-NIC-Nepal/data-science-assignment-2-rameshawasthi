{
  "cells": [
    {
      "cell_type": "code",
      "execution_count": 1,
      "metadata": {
        "id": "kg-lfjGmdb32"
      },
      "outputs": [],
      "source": [
        "import pandas as pd"
      ]
    },
    {
      "cell_type": "markdown",
      "metadata": {
        "id": "Nvt_Sh8cdb34"
      },
      "source": [
        "# Task 1"
      ]
    },
    {
      "cell_type": "code",
      "execution_count": 2,
      "metadata": {
        "id": "UpxiVvvgdb35"
      },
      "outputs": [],
      "source": [
        "# Load the dataset\n",
        "df = pd.read_csv('messed_dataset.csv')\n",
        "data = pd.read_excel('SaleData.xlsx')\n"
      ]
    },
    {
      "cell_type": "code",
      "execution_count": 3,
      "metadata": {
        "colab": {
          "base_uri": "https://localhost:8080/",
          "height": 206
        },
        "id": "oMNNzvvkhtT2",
        "outputId": "5a892cf3-2c12-49c9-d490-c6b1f0134f23"
      },
      "outputs": [
        {
          "data": {
            "text/html": [
              "<div>\n",
              "<style scoped>\n",
              "    .dataframe tbody tr th:only-of-type {\n",
              "        vertical-align: middle;\n",
              "    }\n",
              "\n",
              "    .dataframe tbody tr th {\n",
              "        vertical-align: top;\n",
              "    }\n",
              "\n",
              "    .dataframe thead th {\n",
              "        text-align: right;\n",
              "    }\n",
              "</style>\n",
              "<table border=\"1\" class=\"dataframe\">\n",
              "  <thead>\n",
              "    <tr style=\"text-align: right;\">\n",
              "      <th></th>\n",
              "      <th>Name</th>\n",
              "      <th>Age</th>\n",
              "      <th>Email</th>\n",
              "      <th>Country</th>\n",
              "      <th>Salary</th>\n",
              "      <th>DateOfJoining</th>\n",
              "    </tr>\n",
              "  </thead>\n",
              "  <tbody>\n",
              "    <tr>\n",
              "      <th>0</th>\n",
              "      <td>invalid</td>\n",
              "      <td>59.0</td>\n",
              "      <td>ycastro@example.org</td>\n",
              "      <td>Switzerland</td>\n",
              "      <td>44694.24</td>\n",
              "      <td>2022-09-29</td>\n",
              "    </tr>\n",
              "    <tr>\n",
              "      <th>1</th>\n",
              "      <td>David Jefferson</td>\n",
              "      <td>21.0</td>\n",
              "      <td>NaN</td>\n",
              "      <td>China</td>\n",
              "      <td>NaN</td>\n",
              "      <td>2021-10-04</td>\n",
              "    </tr>\n",
              "    <tr>\n",
              "      <th>2</th>\n",
              "      <td>Jessica Reyes</td>\n",
              "      <td>34.0</td>\n",
              "      <td>NaN</td>\n",
              "      <td>NaN</td>\n",
              "      <td>60511.62</td>\n",
              "      <td>2022-05-24</td>\n",
              "    </tr>\n",
              "    <tr>\n",
              "      <th>3</th>\n",
              "      <td>Kenneth Macdonald</td>\n",
              "      <td>68.0</td>\n",
              "      <td>ewolf@example.com</td>\n",
              "      <td>Italy</td>\n",
              "      <td>84223.29</td>\n",
              "      <td>2022-04-07</td>\n",
              "    </tr>\n",
              "    <tr>\n",
              "      <th>4</th>\n",
              "      <td>Julie Horne</td>\n",
              "      <td>78.0</td>\n",
              "      <td>NaN</td>\n",
              "      <td>Ecuador</td>\n",
              "      <td>24665.13</td>\n",
              "      <td>2020-06-19</td>\n",
              "    </tr>\n",
              "  </tbody>\n",
              "</table>\n",
              "</div>"
            ],
            "text/plain": [
              "                Name   Age                Email      Country    Salary  \\\n",
              "0            invalid  59.0  ycastro@example.org  Switzerland  44694.24   \n",
              "1    David Jefferson  21.0                  NaN        China       NaN   \n",
              "2      Jessica Reyes  34.0                  NaN          NaN  60511.62   \n",
              "3  Kenneth Macdonald  68.0    ewolf@example.com        Italy  84223.29   \n",
              "4        Julie Horne  78.0                  NaN      Ecuador  24665.13   \n",
              "\n",
              "  DateOfJoining  \n",
              "0    2022-09-29  \n",
              "1    2021-10-04  \n",
              "2    2022-05-24  \n",
              "3    2022-04-07  \n",
              "4    2020-06-19  "
            ]
          },
          "execution_count": 3,
          "metadata": {},
          "output_type": "execute_result"
        }
      ],
      "source": [
        "df.head(5)"
      ]
    },
    {
      "cell_type": "code",
      "execution_count": 4,
      "metadata": {
        "colab": {
          "base_uri": "https://localhost:8080/",
          "height": 206
        },
        "id": "pl_j5pXtfFtX",
        "outputId": "fc2ce680-7f52-4ff4-954a-ca222b280fe5"
      },
      "outputs": [
        {
          "data": {
            "text/html": [
              "<div>\n",
              "<style scoped>\n",
              "    .dataframe tbody tr th:only-of-type {\n",
              "        vertical-align: middle;\n",
              "    }\n",
              "\n",
              "    .dataframe tbody tr th {\n",
              "        vertical-align: top;\n",
              "    }\n",
              "\n",
              "    .dataframe thead th {\n",
              "        text-align: right;\n",
              "    }\n",
              "</style>\n",
              "<table border=\"1\" class=\"dataframe\">\n",
              "  <thead>\n",
              "    <tr style=\"text-align: right;\">\n",
              "      <th></th>\n",
              "      <th>OrderDate</th>\n",
              "      <th>Region</th>\n",
              "      <th>Manager</th>\n",
              "      <th>SalesMan</th>\n",
              "      <th>Item</th>\n",
              "      <th>Units</th>\n",
              "      <th>Unit_price</th>\n",
              "      <th>Sale_amt</th>\n",
              "    </tr>\n",
              "  </thead>\n",
              "  <tbody>\n",
              "    <tr>\n",
              "      <th>0</th>\n",
              "      <td>2018-01-06</td>\n",
              "      <td>East</td>\n",
              "      <td>Martha</td>\n",
              "      <td>Alexander</td>\n",
              "      <td>Television</td>\n",
              "      <td>95.0</td>\n",
              "      <td>1198.0</td>\n",
              "      <td>113810.0</td>\n",
              "    </tr>\n",
              "    <tr>\n",
              "      <th>1</th>\n",
              "      <td>2018-01-23</td>\n",
              "      <td>Central</td>\n",
              "      <td>Hermann</td>\n",
              "      <td>Shelli</td>\n",
              "      <td>Home Theater</td>\n",
              "      <td>50.0</td>\n",
              "      <td>500.0</td>\n",
              "      <td>25000.0</td>\n",
              "    </tr>\n",
              "    <tr>\n",
              "      <th>2</th>\n",
              "      <td>2018-02-09</td>\n",
              "      <td>Central</td>\n",
              "      <td>Hermann</td>\n",
              "      <td>Luis</td>\n",
              "      <td>Television</td>\n",
              "      <td>36.0</td>\n",
              "      <td>1198.0</td>\n",
              "      <td>43128.0</td>\n",
              "    </tr>\n",
              "    <tr>\n",
              "      <th>3</th>\n",
              "      <td>2018-02-26</td>\n",
              "      <td>Central</td>\n",
              "      <td>Timothy</td>\n",
              "      <td>David</td>\n",
              "      <td>Cell Phone</td>\n",
              "      <td>27.0</td>\n",
              "      <td>225.0</td>\n",
              "      <td>6075.0</td>\n",
              "    </tr>\n",
              "    <tr>\n",
              "      <th>4</th>\n",
              "      <td>2018-03-15</td>\n",
              "      <td>West</td>\n",
              "      <td>Timothy</td>\n",
              "      <td>Stephen</td>\n",
              "      <td>Television</td>\n",
              "      <td>56.0</td>\n",
              "      <td>1198.0</td>\n",
              "      <td>67088.0</td>\n",
              "    </tr>\n",
              "  </tbody>\n",
              "</table>\n",
              "</div>"
            ],
            "text/plain": [
              "   OrderDate   Region  Manager   SalesMan          Item  Units  Unit_price  \\\n",
              "0 2018-01-06     East   Martha  Alexander    Television   95.0      1198.0   \n",
              "1 2018-01-23  Central  Hermann     Shelli  Home Theater   50.0       500.0   \n",
              "2 2018-02-09  Central  Hermann       Luis    Television   36.0      1198.0   \n",
              "3 2018-02-26  Central  Timothy      David    Cell Phone   27.0       225.0   \n",
              "4 2018-03-15     West  Timothy    Stephen    Television   56.0      1198.0   \n",
              "\n",
              "   Sale_amt  \n",
              "0  113810.0  \n",
              "1   25000.0  \n",
              "2   43128.0  \n",
              "3    6075.0  \n",
              "4   67088.0  "
            ]
          },
          "execution_count": 4,
          "metadata": {},
          "output_type": "execute_result"
        }
      ],
      "source": [
        "data.head(5)"
      ]
    },
    {
      "cell_type": "markdown",
      "metadata": {
        "id": "dAwk5M7Jdb36"
      },
      "source": [
        "# Task 2\n",
        "\n",
        "- Basic Data Cleaning"
      ]
    },
    {
      "cell_type": "code",
      "execution_count": 5,
      "metadata": {
        "colab": {
          "base_uri": "https://localhost:8080/"
        },
        "id": "1AnrKyKlkWYc",
        "outputId": "eb5a3591-2842-4860-b235-206944c04565"
      },
      "outputs": [
        {
          "data": {
            "text/plain": [
              "Name             11\n",
              "Age               3\n",
              "Email            20\n",
              "Country          14\n",
              "Salary            6\n",
              "DateOfJoining    21\n",
              "dtype: int64"
            ]
          },
          "execution_count": 5,
          "metadata": {},
          "output_type": "execute_result"
        }
      ],
      "source": [
        "df.isnull().sum()"
      ]
    },
    {
      "cell_type": "code",
      "execution_count": 6,
      "metadata": {
        "colab": {
          "base_uri": "https://localhost:8080/",
          "height": 206
        },
        "id": "ZTtwycntkelQ",
        "outputId": "f8e11238-2df5-4e7f-93ed-23208a22ce9d"
      },
      "outputs": [
        {
          "data": {
            "text/html": [
              "<div>\n",
              "<style scoped>\n",
              "    .dataframe tbody tr th:only-of-type {\n",
              "        vertical-align: middle;\n",
              "    }\n",
              "\n",
              "    .dataframe tbody tr th {\n",
              "        vertical-align: top;\n",
              "    }\n",
              "\n",
              "    .dataframe thead th {\n",
              "        text-align: right;\n",
              "    }\n",
              "</style>\n",
              "<table border=\"1\" class=\"dataframe\">\n",
              "  <thead>\n",
              "    <tr style=\"text-align: right;\">\n",
              "      <th></th>\n",
              "      <th>Name</th>\n",
              "      <th>Age</th>\n",
              "      <th>Email</th>\n",
              "      <th>Country</th>\n",
              "      <th>Salary</th>\n",
              "      <th>DateOfJoining</th>\n",
              "    </tr>\n",
              "  </thead>\n",
              "  <tbody>\n",
              "    <tr>\n",
              "      <th>0</th>\n",
              "      <td>invalid</td>\n",
              "      <td>59.0</td>\n",
              "      <td>ycastro@example.org</td>\n",
              "      <td>Switzerland</td>\n",
              "      <td>44694.24</td>\n",
              "      <td>2022-09-29</td>\n",
              "    </tr>\n",
              "    <tr>\n",
              "      <th>3</th>\n",
              "      <td>Kenneth Macdonald</td>\n",
              "      <td>68.0</td>\n",
              "      <td>ewolf@example.com</td>\n",
              "      <td>Italy</td>\n",
              "      <td>84223.29</td>\n",
              "      <td>2022-04-07</td>\n",
              "    </tr>\n",
              "    <tr>\n",
              "      <th>5</th>\n",
              "      <td>Jonathan Holland</td>\n",
              "      <td>26.0</td>\n",
              "      <td>mayercaitlin@example.org</td>\n",
              "      <td>Cameroon</td>\n",
              "      <td>25660.99</td>\n",
              "      <td>2023-05-01</td>\n",
              "    </tr>\n",
              "    <tr>\n",
              "      <th>7</th>\n",
              "      <td>Kimberly Roberts</td>\n",
              "      <td>76.0</td>\n",
              "      <td>lmiller@example.org</td>\n",
              "      <td>Netherlands</td>\n",
              "      <td>58550.56</td>\n",
              "      <td>2023-07-08</td>\n",
              "    </tr>\n",
              "    <tr>\n",
              "      <th>9</th>\n",
              "      <td>Jason Perez</td>\n",
              "      <td>59.0</td>\n",
              "      <td>collinsedward@example.com</td>\n",
              "      <td>Myanmar</td>\n",
              "      <td>20175.11</td>\n",
              "      <td>2024-04-11</td>\n",
              "    </tr>\n",
              "  </tbody>\n",
              "</table>\n",
              "</div>"
            ],
            "text/plain": [
              "                Name   Age                      Email      Country    Salary  \\\n",
              "0            invalid  59.0        ycastro@example.org  Switzerland  44694.24   \n",
              "3  Kenneth Macdonald  68.0          ewolf@example.com        Italy  84223.29   \n",
              "5   Jonathan Holland  26.0   mayercaitlin@example.org     Cameroon  25660.99   \n",
              "7   Kimberly Roberts  76.0        lmiller@example.org  Netherlands  58550.56   \n",
              "9        Jason Perez  59.0  collinsedward@example.com      Myanmar  20175.11   \n",
              "\n",
              "  DateOfJoining  \n",
              "0    2022-09-29  \n",
              "3    2022-04-07  \n",
              "5    2023-05-01  \n",
              "7    2023-07-08  \n",
              "9    2024-04-11  "
            ]
          },
          "execution_count": 6,
          "metadata": {},
          "output_type": "execute_result"
        }
      ],
      "source": [
        "df.dropna(inplace=True)\n",
        "df.drop_duplicates(inplace=True)\n",
        "df.rename(columns={'Unnamed: 0': 'id'}, inplace=True)\n",
        "df.head()\n"
      ]
    },
    {
      "cell_type": "code",
      "execution_count": 7,
      "metadata": {
        "colab": {
          "base_uri": "https://localhost:8080/"
        },
        "id": "61FhawOulLRl",
        "outputId": "5fe77a7c-fa1c-44cc-8878-fa3c2a6c5b8d"
      },
      "outputs": [
        {
          "data": {
            "text/plain": [
              "Name             0\n",
              "Age              0\n",
              "Email            0\n",
              "Country          0\n",
              "Salary           0\n",
              "DateOfJoining    0\n",
              "dtype: int64"
            ]
          },
          "execution_count": 7,
          "metadata": {},
          "output_type": "execute_result"
        }
      ],
      "source": [
        "df.isnull().sum()"
      ]
    },
    {
      "cell_type": "code",
      "execution_count": 8,
      "metadata": {
        "colab": {
          "base_uri": "https://localhost:8080/"
        },
        "id": "34A5cEcpkagO",
        "outputId": "2b8dc6d8-6bab-48b8-ea40-06e7b6e092a3"
      },
      "outputs": [
        {
          "data": {
            "text/plain": [
              "OrderDate     2\n",
              "Region        2\n",
              "Manager       2\n",
              "SalesMan      2\n",
              "Item          2\n",
              "Units         0\n",
              "Unit_price    0\n",
              "Sale_amt      0\n",
              "dtype: int64"
            ]
          },
          "execution_count": 8,
          "metadata": {},
          "output_type": "execute_result"
        }
      ],
      "source": [
        "#Check Nan value for Data\n",
        "data.isnull().sum()"
      ]
    },
    {
      "cell_type": "code",
      "execution_count": 9,
      "metadata": {
        "colab": {
          "base_uri": "https://localhost:8080/",
          "height": 206
        },
        "id": "W-NA4xPNh3cY",
        "outputId": "d4414231-249d-46f9-9b04-616540095490"
      },
      "outputs": [
        {
          "data": {
            "text/html": [
              "<div>\n",
              "<style scoped>\n",
              "    .dataframe tbody tr th:only-of-type {\n",
              "        vertical-align: middle;\n",
              "    }\n",
              "\n",
              "    .dataframe tbody tr th {\n",
              "        vertical-align: top;\n",
              "    }\n",
              "\n",
              "    .dataframe thead th {\n",
              "        text-align: right;\n",
              "    }\n",
              "</style>\n",
              "<table border=\"1\" class=\"dataframe\">\n",
              "  <thead>\n",
              "    <tr style=\"text-align: right;\">\n",
              "      <th></th>\n",
              "      <th>OrderDate</th>\n",
              "      <th>Region</th>\n",
              "      <th>Manager</th>\n",
              "      <th>SalesMan</th>\n",
              "      <th>Item</th>\n",
              "      <th>Units</th>\n",
              "      <th>Unit_price</th>\n",
              "      <th>Sale_amt</th>\n",
              "    </tr>\n",
              "  </thead>\n",
              "  <tbody>\n",
              "    <tr>\n",
              "      <th>0</th>\n",
              "      <td>2018-01-06</td>\n",
              "      <td>East</td>\n",
              "      <td>Martha</td>\n",
              "      <td>Alexander</td>\n",
              "      <td>Television</td>\n",
              "      <td>95.0</td>\n",
              "      <td>1198.0</td>\n",
              "      <td>113810.0</td>\n",
              "    </tr>\n",
              "    <tr>\n",
              "      <th>1</th>\n",
              "      <td>2018-01-23</td>\n",
              "      <td>Central</td>\n",
              "      <td>Hermann</td>\n",
              "      <td>Shelli</td>\n",
              "      <td>Home Theater</td>\n",
              "      <td>50.0</td>\n",
              "      <td>500.0</td>\n",
              "      <td>25000.0</td>\n",
              "    </tr>\n",
              "    <tr>\n",
              "      <th>2</th>\n",
              "      <td>2018-02-09</td>\n",
              "      <td>Central</td>\n",
              "      <td>Hermann</td>\n",
              "      <td>Luis</td>\n",
              "      <td>Television</td>\n",
              "      <td>36.0</td>\n",
              "      <td>1198.0</td>\n",
              "      <td>43128.0</td>\n",
              "    </tr>\n",
              "    <tr>\n",
              "      <th>3</th>\n",
              "      <td>2018-02-26</td>\n",
              "      <td>Central</td>\n",
              "      <td>Timothy</td>\n",
              "      <td>David</td>\n",
              "      <td>Cell Phone</td>\n",
              "      <td>27.0</td>\n",
              "      <td>225.0</td>\n",
              "      <td>6075.0</td>\n",
              "    </tr>\n",
              "    <tr>\n",
              "      <th>4</th>\n",
              "      <td>2018-03-15</td>\n",
              "      <td>West</td>\n",
              "      <td>Timothy</td>\n",
              "      <td>Stephen</td>\n",
              "      <td>Television</td>\n",
              "      <td>56.0</td>\n",
              "      <td>1198.0</td>\n",
              "      <td>67088.0</td>\n",
              "    </tr>\n",
              "  </tbody>\n",
              "</table>\n",
              "</div>"
            ],
            "text/plain": [
              "   OrderDate   Region  Manager   SalesMan          Item  Units  Unit_price  \\\n",
              "0 2018-01-06     East   Martha  Alexander    Television   95.0      1198.0   \n",
              "1 2018-01-23  Central  Hermann     Shelli  Home Theater   50.0       500.0   \n",
              "2 2018-02-09  Central  Hermann       Luis    Television   36.0      1198.0   \n",
              "3 2018-02-26  Central  Timothy      David    Cell Phone   27.0       225.0   \n",
              "4 2018-03-15     West  Timothy    Stephen    Television   56.0      1198.0   \n",
              "\n",
              "   Sale_amt  \n",
              "0  113810.0  \n",
              "1   25000.0  \n",
              "2   43128.0  \n",
              "3    6075.0  \n",
              "4   67088.0  "
            ]
          },
          "execution_count": 9,
          "metadata": {},
          "output_type": "execute_result"
        }
      ],
      "source": [
        "# Your code goes here  For  data\n",
        "# Drop missing values\n",
        "data = data.dropna()\n",
        "\n",
        "# Drop duplicate rows\n",
        "data = data.drop_duplicates()\n",
        "\n",
        "# Rename columns\n",
        "data = data.rename(columns={\n",
        "    'Unnamed: 0': 'id',\n",
        "    'column_1': 'feature_1',\n",
        "    'column_2': 'feature_2',\n",
        "    'column_3': 'target'\n",
        "})\n",
        "\n",
        "# Print the cleaned data\n",
        "data.head()"
      ]
    },
    {
      "cell_type": "markdown",
      "metadata": {
        "id": "7u6URUIpdb36"
      },
      "source": [
        "# Task 3\n",
        "- Data Analysis. Analyse the data by giving the summary statistics, and more information about the data\n"
      ]
    },
    {
      "cell_type": "code",
      "execution_count": 10,
      "metadata": {
        "colab": {
          "base_uri": "https://localhost:8080/",
          "height": 175
        },
        "id": "rNQb-BMMihyp",
        "outputId": "4c813e89-9ebd-4629-a6f8-df4f2f4c2dc5"
      },
      "outputs": [
        {
          "data": {
            "text/html": [
              "<div>\n",
              "<style scoped>\n",
              "    .dataframe tbody tr th:only-of-type {\n",
              "        vertical-align: middle;\n",
              "    }\n",
              "\n",
              "    .dataframe tbody tr th {\n",
              "        vertical-align: top;\n",
              "    }\n",
              "\n",
              "    .dataframe thead th {\n",
              "        text-align: right;\n",
              "    }\n",
              "</style>\n",
              "<table border=\"1\" class=\"dataframe\">\n",
              "  <thead>\n",
              "    <tr style=\"text-align: right;\">\n",
              "      <th></th>\n",
              "      <th>Name</th>\n",
              "      <th>Age</th>\n",
              "      <th>Email</th>\n",
              "      <th>Country</th>\n",
              "      <th>Salary</th>\n",
              "      <th>DateOfJoining</th>\n",
              "    </tr>\n",
              "  </thead>\n",
              "  <tbody>\n",
              "    <tr>\n",
              "      <th>count</th>\n",
              "      <td>50</td>\n",
              "      <td>50</td>\n",
              "      <td>50</td>\n",
              "      <td>50</td>\n",
              "      <td>50</td>\n",
              "      <td>50</td>\n",
              "    </tr>\n",
              "    <tr>\n",
              "      <th>unique</th>\n",
              "      <td>49</td>\n",
              "      <td>34</td>\n",
              "      <td>50</td>\n",
              "      <td>48</td>\n",
              "      <td>49</td>\n",
              "      <td>50</td>\n",
              "    </tr>\n",
              "    <tr>\n",
              "      <th>top</th>\n",
              "      <td>invalid</td>\n",
              "      <td>76.0</td>\n",
              "      <td>ycastro@example.org</td>\n",
              "      <td>Greece</td>\n",
              "      <td>invalid</td>\n",
              "      <td>2022-09-29</td>\n",
              "    </tr>\n",
              "    <tr>\n",
              "      <th>freq</th>\n",
              "      <td>2</td>\n",
              "      <td>6</td>\n",
              "      <td>1</td>\n",
              "      <td>2</td>\n",
              "      <td>2</td>\n",
              "      <td>1</td>\n",
              "    </tr>\n",
              "  </tbody>\n",
              "</table>\n",
              "</div>"
            ],
            "text/plain": [
              "           Name   Age                Email Country   Salary DateOfJoining\n",
              "count        50    50                   50      50       50            50\n",
              "unique       49    34                   50      48       49            50\n",
              "top     invalid  76.0  ycastro@example.org  Greece  invalid    2022-09-29\n",
              "freq          2     6                    1       2        2             1"
            ]
          },
          "execution_count": 10,
          "metadata": {},
          "output_type": "execute_result"
        }
      ],
      "source": [
        "df.describe()"
      ]
    },
    {
      "cell_type": "code",
      "execution_count": 11,
      "metadata": {
        "colab": {
          "base_uri": "https://localhost:8080/",
          "height": 300
        },
        "id": "i55GXVh1ih52",
        "outputId": "6621bd98-0fe3-4d7e-c5f9-86fba50e428c"
      },
      "outputs": [
        {
          "data": {
            "text/html": [
              "<div>\n",
              "<style scoped>\n",
              "    .dataframe tbody tr th:only-of-type {\n",
              "        vertical-align: middle;\n",
              "    }\n",
              "\n",
              "    .dataframe tbody tr th {\n",
              "        vertical-align: top;\n",
              "    }\n",
              "\n",
              "    .dataframe thead th {\n",
              "        text-align: right;\n",
              "    }\n",
              "</style>\n",
              "<table border=\"1\" class=\"dataframe\">\n",
              "  <thead>\n",
              "    <tr style=\"text-align: right;\">\n",
              "      <th></th>\n",
              "      <th>OrderDate</th>\n",
              "      <th>Units</th>\n",
              "      <th>Unit_price</th>\n",
              "      <th>Sale_amt</th>\n",
              "    </tr>\n",
              "  </thead>\n",
              "  <tbody>\n",
              "    <tr>\n",
              "      <th>count</th>\n",
              "      <td>43</td>\n",
              "      <td>43.000000</td>\n",
              "      <td>43.000000</td>\n",
              "      <td>43.000000</td>\n",
              "    </tr>\n",
              "    <tr>\n",
              "      <th>mean</th>\n",
              "      <td>2018-12-29 00:00:00</td>\n",
              "      <td>49.325581</td>\n",
              "      <td>581.011628</td>\n",
              "      <td>30364.546512</td>\n",
              "    </tr>\n",
              "    <tr>\n",
              "      <th>min</th>\n",
              "      <td>2018-01-06 00:00:00</td>\n",
              "      <td>2.000000</td>\n",
              "      <td>58.500000</td>\n",
              "      <td>250.000000</td>\n",
              "    </tr>\n",
              "    <tr>\n",
              "      <th>25%</th>\n",
              "      <td>2018-07-03 12:00:00</td>\n",
              "      <td>27.500000</td>\n",
              "      <td>225.000000</td>\n",
              "      <td>3978.000000</td>\n",
              "    </tr>\n",
              "    <tr>\n",
              "      <th>50%</th>\n",
              "      <td>2018-12-29 00:00:00</td>\n",
              "      <td>53.000000</td>\n",
              "      <td>500.000000</td>\n",
              "      <td>17100.000000</td>\n",
              "    </tr>\n",
              "    <tr>\n",
              "      <th>75%</th>\n",
              "      <td>2019-06-25 12:00:00</td>\n",
              "      <td>74.500000</td>\n",
              "      <td>1198.000000</td>\n",
              "      <td>42529.000000</td>\n",
              "    </tr>\n",
              "    <tr>\n",
              "      <th>max</th>\n",
              "      <td>2019-12-21 00:00:00</td>\n",
              "      <td>96.000000</td>\n",
              "      <td>1198.000000</td>\n",
              "      <td>113810.000000</td>\n",
              "    </tr>\n",
              "    <tr>\n",
              "      <th>std</th>\n",
              "      <td>NaN</td>\n",
              "      <td>30.078248</td>\n",
              "      <td>442.285830</td>\n",
              "      <td>32424.588323</td>\n",
              "    </tr>\n",
              "  </tbody>\n",
              "</table>\n",
              "</div>"
            ],
            "text/plain": [
              "                 OrderDate      Units   Unit_price       Sale_amt\n",
              "count                   43  43.000000    43.000000      43.000000\n",
              "mean   2018-12-29 00:00:00  49.325581   581.011628   30364.546512\n",
              "min    2018-01-06 00:00:00   2.000000    58.500000     250.000000\n",
              "25%    2018-07-03 12:00:00  27.500000   225.000000    3978.000000\n",
              "50%    2018-12-29 00:00:00  53.000000   500.000000   17100.000000\n",
              "75%    2019-06-25 12:00:00  74.500000  1198.000000   42529.000000\n",
              "max    2019-12-21 00:00:00  96.000000  1198.000000  113810.000000\n",
              "std                    NaN  30.078248   442.285830   32424.588323"
            ]
          },
          "execution_count": 11,
          "metadata": {},
          "output_type": "execute_result"
        }
      ],
      "source": [
        "data.describe()"
      ]
    },
    {
      "cell_type": "code",
      "execution_count": 12,
      "metadata": {
        "colab": {
          "base_uri": "https://localhost:8080/"
        },
        "id": "5Pp-NRa8ih9b",
        "outputId": "96189341-71ff-4d0b-8b02-bc56cb658a15"
      },
      "outputs": [
        {
          "name": "stdout",
          "output_type": "stream",
          "text": [
            "<class 'pandas.core.frame.DataFrame'>\n",
            "Index: 50 entries, 0 to 98\n",
            "Data columns (total 6 columns):\n",
            " #   Column         Non-Null Count  Dtype \n",
            "---  ------         --------------  ----- \n",
            " 0   Name           50 non-null     object\n",
            " 1   Age            50 non-null     object\n",
            " 2   Email          50 non-null     object\n",
            " 3   Country        50 non-null     object\n",
            " 4   Salary         50 non-null     object\n",
            " 5   DateOfJoining  50 non-null     object\n",
            "dtypes: object(6)\n",
            "memory usage: 2.7+ KB\n"
          ]
        }
      ],
      "source": [
        "df.info()"
      ]
    },
    {
      "cell_type": "code",
      "execution_count": 13,
      "metadata": {
        "colab": {
          "base_uri": "https://localhost:8080/"
        },
        "id": "vS6ohdl1iiAI",
        "outputId": "41072033-ab29-48ea-f88a-951b86957982"
      },
      "outputs": [
        {
          "name": "stdout",
          "output_type": "stream",
          "text": [
            "<class 'pandas.core.frame.DataFrame'>\n",
            "Index: 43 entries, 0 to 42\n",
            "Data columns (total 8 columns):\n",
            " #   Column      Non-Null Count  Dtype         \n",
            "---  ------      --------------  -----         \n",
            " 0   OrderDate   43 non-null     datetime64[ns]\n",
            " 1   Region      43 non-null     object        \n",
            " 2   Manager     43 non-null     object        \n",
            " 3   SalesMan    43 non-null     object        \n",
            " 4   Item        43 non-null     object        \n",
            " 5   Units       43 non-null     float64       \n",
            " 6   Unit_price  43 non-null     float64       \n",
            " 7   Sale_amt    43 non-null     float64       \n",
            "dtypes: datetime64[ns](1), float64(3), object(4)\n",
            "memory usage: 3.0+ KB\n"
          ]
        }
      ],
      "source": [
        "data.info()"
      ]
    },
    {
      "cell_type": "code",
      "execution_count": 14,
      "metadata": {
        "colab": {
          "base_uri": "https://localhost:8080/"
        },
        "id": "uUPld5fJiyIC",
        "outputId": "17754990-7fc6-4070-f6b9-8de90bb6f91a"
      },
      "outputs": [
        {
          "data": {
            "text/plain": [
              "array(['44694.24', '84223.29', '25660.99', '58550.56', '20175.11',\n",
              "       '72362.02', '71261.36', 'invalid', '59670.5', '83580.8',\n",
              "       '35390.77', '83514.58', '35671.38', '66871.64', '81661.97',\n",
              "       '81367.57', '25219.6', '54801.7', '21408.87', '47293.85',\n",
              "       '98826.59', '83842.6', '78453.84', '86579.95', '86286.69',\n",
              "       '47755.97', '32205.53', '28951.24', '62929.05', '73916.51',\n",
              "       '28583.22', '57795.75', '68794.39', '98396.21', '89683.17',\n",
              "       '30773.53', '99507.66', '34369.87', '39875.14', '69624.01',\n",
              "       '43013.14', '29455.0', '42435.96', '78048.75', '49354.13',\n",
              "       '52834.29', '55583.62', '29992.69', '85290.44'], dtype=object)"
            ]
          },
          "execution_count": 14,
          "metadata": {},
          "output_type": "execute_result"
        }
      ],
      "source": [
        "df['Salary'].unique()"
      ]
    },
    {
      "cell_type": "code",
      "execution_count": 15,
      "metadata": {
        "colab": {
          "base_uri": "https://localhost:8080/"
        },
        "id": "ghozBOWNljIG",
        "outputId": "b8415287-0569-497f-b9f7-ddcd5c35b1b3"
      },
      "outputs": [
        {
          "data": {
            "text/plain": [
              "Index(['OrderDate', 'Region', 'Manager', 'SalesMan', 'Item', 'Units',\n",
              "       'Unit_price', 'Sale_amt'],\n",
              "      dtype='object')"
            ]
          },
          "execution_count": 15,
          "metadata": {},
          "output_type": "execute_result"
        }
      ],
      "source": [
        "data.columns"
      ]
    },
    {
      "cell_type": "code",
      "execution_count": 16,
      "metadata": {
        "colab": {
          "base_uri": "https://localhost:8080/"
        },
        "id": "HCm7p89klrYx",
        "outputId": "789635ca-88dc-4ba7-8ff0-4a9cd4261f4e"
      },
      "outputs": [
        {
          "data": {
            "text/plain": [
              "array([1198. ,  500. ,  225. ,  125. ,   58.5])"
            ]
          },
          "execution_count": 16,
          "metadata": {},
          "output_type": "execute_result"
        }
      ],
      "source": [
        "data['Unit_price'].unique()"
      ]
    },
    {
      "cell_type": "markdown",
      "metadata": {
        "id": "Lt7mMq5Sdb37"
      },
      "source": [
        "# Data Visualization\n",
        "- Visualize the data by using the visualization libraries"
      ]
    },
    {
      "cell_type": "code",
      "execution_count": 18,
      "metadata": {
        "colab": {
          "base_uri": "https://localhost:8080/",
          "height": 206
        },
        "id": "lsJ3CKcTppgu",
        "outputId": "dc5e7510-f0dd-43ff-a791-7942c0863725"
      },
      "outputs": [
        {
          "data": {
            "text/html": [
              "<div>\n",
              "<style scoped>\n",
              "    .dataframe tbody tr th:only-of-type {\n",
              "        vertical-align: middle;\n",
              "    }\n",
              "\n",
              "    .dataframe tbody tr th {\n",
              "        vertical-align: top;\n",
              "    }\n",
              "\n",
              "    .dataframe thead th {\n",
              "        text-align: right;\n",
              "    }\n",
              "</style>\n",
              "<table border=\"1\" class=\"dataframe\">\n",
              "  <thead>\n",
              "    <tr style=\"text-align: right;\">\n",
              "      <th></th>\n",
              "      <th>Name</th>\n",
              "      <th>Age</th>\n",
              "      <th>Email</th>\n",
              "      <th>Country</th>\n",
              "      <th>Salary</th>\n",
              "      <th>DateOfJoining</th>\n",
              "    </tr>\n",
              "  </thead>\n",
              "  <tbody>\n",
              "    <tr>\n",
              "      <th>0</th>\n",
              "      <td>invalid</td>\n",
              "      <td>59.0</td>\n",
              "      <td>ycastro@example.org</td>\n",
              "      <td>Switzerland</td>\n",
              "      <td>44694.24</td>\n",
              "      <td>2022-09-29</td>\n",
              "    </tr>\n",
              "    <tr>\n",
              "      <th>3</th>\n",
              "      <td>Kenneth Macdonald</td>\n",
              "      <td>68.0</td>\n",
              "      <td>ewolf@example.com</td>\n",
              "      <td>Italy</td>\n",
              "      <td>84223.29</td>\n",
              "      <td>2022-04-07</td>\n",
              "    </tr>\n",
              "    <tr>\n",
              "      <th>5</th>\n",
              "      <td>Jonathan Holland</td>\n",
              "      <td>26.0</td>\n",
              "      <td>mayercaitlin@example.org</td>\n",
              "      <td>Cameroon</td>\n",
              "      <td>25660.99</td>\n",
              "      <td>2023-05-01</td>\n",
              "    </tr>\n",
              "    <tr>\n",
              "      <th>7</th>\n",
              "      <td>Kimberly Roberts</td>\n",
              "      <td>76.0</td>\n",
              "      <td>lmiller@example.org</td>\n",
              "      <td>Netherlands</td>\n",
              "      <td>58550.56</td>\n",
              "      <td>2023-07-08</td>\n",
              "    </tr>\n",
              "    <tr>\n",
              "      <th>9</th>\n",
              "      <td>Jason Perez</td>\n",
              "      <td>59.0</td>\n",
              "      <td>collinsedward@example.com</td>\n",
              "      <td>Myanmar</td>\n",
              "      <td>20175.11</td>\n",
              "      <td>2024-04-11</td>\n",
              "    </tr>\n",
              "  </tbody>\n",
              "</table>\n",
              "</div>"
            ],
            "text/plain": [
              "                Name   Age                      Email      Country    Salary  \\\n",
              "0            invalid  59.0        ycastro@example.org  Switzerland  44694.24   \n",
              "3  Kenneth Macdonald  68.0          ewolf@example.com        Italy  84223.29   \n",
              "5   Jonathan Holland  26.0   mayercaitlin@example.org     Cameroon  25660.99   \n",
              "7   Kimberly Roberts  76.0        lmiller@example.org  Netherlands  58550.56   \n",
              "9        Jason Perez  59.0  collinsedward@example.com      Myanmar  20175.11   \n",
              "\n",
              "  DateOfJoining  \n",
              "0    2022-09-29  \n",
              "3    2022-04-07  \n",
              "5    2023-05-01  \n",
              "7    2023-07-08  \n",
              "9    2024-04-11  "
            ]
          },
          "execution_count": 18,
          "metadata": {},
          "output_type": "execute_result"
        }
      ],
      "source": [
        "df.head()"
      ]
    },
    {
      "cell_type": "code",
      "execution_count": 19,
      "metadata": {
        "colab": {
          "base_uri": "https://localhost:8080/",
          "height": 564
        },
        "id": "XIY_vfFAppkt",
        "outputId": "42e83696-dc81-4b12-84fd-b924af2e053d"
      },
      "outputs": [
        {
          "data": {
            "image/png": "[encoded data removed]",
            "text/plain": [
              "<Figure size 1200x600 with 1 Axes>"
            ]
          },
          "metadata": {},
          "output_type": "display_data"
        }
      ],
      "source": [
        "\n",
        "import matplotlib.pyplot as plt\n",
        "import seaborn as sns\n",
        "\n",
        "# Group data by country and calculate the number of people in each country\n",
        "country_counts = df.groupby('Country')['Age'].count().sort_values(ascending=False)[:10]\n",
        "\n",
        "# Create a bar chart\n",
        "plt.figure(figsize=(12, 6))\n",
        "sns.barplot(x=country_counts.index, y=country_counts.values)\n",
        "\n",
        "# Add title and labels\n",
        "plt.title('Top 10 Countries with Most People')\n",
        "plt.xlabel('Country')\n",
        "plt.ylabel('Number of People')\n",
        "\n",
        "# Show the plot\n",
        "plt.show()\n"
      ]
    },
    {
      "cell_type": "code",
      "execution_count": 20,
      "metadata": {
        "colab": {
          "base_uri": "https://localhost:8080/",
          "height": 564
        },
        "id": "H6DuzIQ5ptfL",
        "outputId": "cab44583-8d14-4db3-d1c4-78b92079c15b"
      },
      "outputs": [
        {
          "data": {
            "image/png": "[encoded data removed]",
            "text/plain": [
              "<Figure size 1200x600 with 1 Axes>"
            ]
          },
          "metadata": {},
          "output_type": "display_data"
        }
      ],
      "source": [
        "\n",
        "import matplotlib.pyplot as plt\n",
        "# Group data by country, age, and salary\n",
        "grouped_data = df.groupby(['Country', 'Age', 'Salary']).size().sort_values(ascending=False)[:10]\n",
        "\n",
        "\n",
        "plt.figure(figsize=(12, 6))\n",
        "sns.barplot(x=grouped_data.index.get_level_values('Country'), y=grouped_data.index.get_level_values('Salary'), hue=grouped_data.index.get_level_values('Age'))\n",
        "\n",
        "plt.title('Top 10 Ages and Salaries by Country')\n",
        "plt.xlabel('Country')\n",
        "plt.ylabel('Salary')\n",
        "plt.legend(title='Age')\n",
        "\n",
        "\n",
        "plt.show()\n"
      ]
    },
    {
      "cell_type": "code",
      "execution_count": 23,
      "metadata": {},
      "outputs": [
        {
          "data": {
            "text/html": [
              "<div>\n",
              "<style scoped>\n",
              "    .dataframe tbody tr th:only-of-type {\n",
              "        vertical-align: middle;\n",
              "    }\n",
              "\n",
              "    .dataframe tbody tr th {\n",
              "        vertical-align: top;\n",
              "    }\n",
              "\n",
              "    .dataframe thead th {\n",
              "        text-align: right;\n",
              "    }\n",
              "</style>\n",
              "<table border=\"1\" class=\"dataframe\">\n",
              "  <thead>\n",
              "    <tr style=\"text-align: right;\">\n",
              "      <th></th>\n",
              "      <th>OrderDate</th>\n",
              "      <th>Region</th>\n",
              "      <th>Manager</th>\n",
              "      <th>SalesMan</th>\n",
              "      <th>Item</th>\n",
              "      <th>Units</th>\n",
              "      <th>Unit_price</th>\n",
              "      <th>Sale_amt</th>\n",
              "    </tr>\n",
              "  </thead>\n",
              "  <tbody>\n",
              "    <tr>\n",
              "      <th>0</th>\n",
              "      <td>2018-01-06</td>\n",
              "      <td>East</td>\n",
              "      <td>Martha</td>\n",
              "      <td>Alexander</td>\n",
              "      <td>Television</td>\n",
              "      <td>95.0</td>\n",
              "      <td>1198.0</td>\n",
              "      <td>113810.0</td>\n",
              "    </tr>\n",
              "    <tr>\n",
              "      <th>1</th>\n",
              "      <td>2018-01-23</td>\n",
              "      <td>Central</td>\n",
              "      <td>Hermann</td>\n",
              "      <td>Shelli</td>\n",
              "      <td>Home Theater</td>\n",
              "      <td>50.0</td>\n",
              "      <td>500.0</td>\n",
              "      <td>25000.0</td>\n",
              "    </tr>\n",
              "    <tr>\n",
              "      <th>2</th>\n",
              "      <td>2018-02-09</td>\n",
              "      <td>Central</td>\n",
              "      <td>Hermann</td>\n",
              "      <td>Luis</td>\n",
              "      <td>Television</td>\n",
              "      <td>36.0</td>\n",
              "      <td>1198.0</td>\n",
              "      <td>43128.0</td>\n",
              "    </tr>\n",
              "    <tr>\n",
              "      <th>3</th>\n",
              "      <td>2018-02-26</td>\n",
              "      <td>Central</td>\n",
              "      <td>Timothy</td>\n",
              "      <td>David</td>\n",
              "      <td>Cell Phone</td>\n",
              "      <td>27.0</td>\n",
              "      <td>225.0</td>\n",
              "      <td>6075.0</td>\n",
              "    </tr>\n",
              "    <tr>\n",
              "      <th>4</th>\n",
              "      <td>2018-03-15</td>\n",
              "      <td>West</td>\n",
              "      <td>Timothy</td>\n",
              "      <td>Stephen</td>\n",
              "      <td>Television</td>\n",
              "      <td>56.0</td>\n",
              "      <td>1198.0</td>\n",
              "      <td>67088.0</td>\n",
              "    </tr>\n",
              "  </tbody>\n",
              "</table>\n",
              "</div>"
            ],
            "text/plain": [
              "   OrderDate   Region  Manager   SalesMan          Item  Units  Unit_price  \\\n",
              "0 2018-01-06     East   Martha  Alexander    Television   95.0      1198.0   \n",
              "1 2018-01-23  Central  Hermann     Shelli  Home Theater   50.0       500.0   \n",
              "2 2018-02-09  Central  Hermann       Luis    Television   36.0      1198.0   \n",
              "3 2018-02-26  Central  Timothy      David    Cell Phone   27.0       225.0   \n",
              "4 2018-03-15     West  Timothy    Stephen    Television   56.0      1198.0   \n",
              "\n",
              "   Sale_amt  \n",
              "0  113810.0  \n",
              "1   25000.0  \n",
              "2   43128.0  \n",
              "3    6075.0  \n",
              "4   67088.0  "
            ]
          },
          "execution_count": 23,
          "metadata": {},
          "output_type": "execute_result"
        }
      ],
      "source": [
        "data.head()"
      ]
    },
    {
      "cell_type": "code",
      "execution_count": 21,
      "metadata": {
        "colab": {
          "base_uri": "https://localhost:8080/",
          "height": 430
        },
        "id": "OXIRcIkDoGrO",
        "outputId": "09bd0610-5b0e-48f2-c0c6-39f2f1a67dc8"
      },
      "outputs": [
        {
          "data": {
            "image/png": "[encoded data removed]",
            "text/plain": [
              "<Figure size 640x480 with 1 Axes>"
            ]
          },
          "metadata": {},
          "output_type": "display_data"
        }
      ],
      "source": [
        "from matplotlib import pyplot as plt\n",
        "import seaborn as sns\n",
        "data.groupby('Manager').size().plot(kind='barh', color=sns.palettes.mpl_palette('Dark2'))\n",
        "plt.gca().spines[['top', 'right',]].set_visible(False)"
      ]
    },
    {
      "cell_type": "code",
      "execution_count": 22,
      "metadata": {
        "colab": {
          "base_uri": "https://localhost:8080/",
          "height": 430
        },
        "id": "RA2aJpwfn975",
        "outputId": "308c0bf5-3837-4c49-ec79-ac782fb67771"
      },
      "outputs": [
        {
          "data": {
            "image/png": "[encoded data removed]",
            "text/plain": [
              "<Figure size 640x480 with 1 Axes>"
            ]
          },
          "metadata": {},
          "output_type": "display_data"
        }
      ],
      "source": [
        "\n",
        "from matplotlib import pyplot as plt\n",
        "import seaborn as sns\n",
        "data.groupby('Region').size().plot(kind='barh', color=sns.palettes.mpl_palette('Dark2'))\n",
        "plt.gca().spines[['top', 'right',]].set_visible(False)"
      ]
    }
  ],
  "metadata": {
    "colab": {
      "provenance": []
    },
    "kernelspec": {
      "display_name": "base",
      "language": "python",
      "name": "python3"
    },
    "language_info": {
      "codemirror_mode": {
        "name": "ipython",
        "version": 3
      },
      "file_extension": ".py",
      "mimetype": "text/x-python",
      "name": "python",
      "nbconvert_exporter": "python",
      "pygments_lexer": "ipython3",
      "version": "3.12.4"
    }
  },
  "nbformat": 4,
  "nbformat_minor": 0
}
